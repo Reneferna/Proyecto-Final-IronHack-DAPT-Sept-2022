{
 "cells": [
  {
   "cell_type": "code",
   "execution_count": 1,
   "id": "60f85f26-55c8-4b11-8690-7c30888ed45b",
   "metadata": {},
   "outputs": [],
   "source": [
    "import pandas as pd\n",
    "import numpy as np\n",
    "import xgboost as xgb\n",
    "import matplotlib.pyplot as plt\n",
    "import seaborn as sns\n",
    "from sklearn.metrics import mean_squared_error\n",
    "from sklearn.metrics import mean_absolute_error\n",
    "from prophet import Prophet\n",
    "import warnings\n",
    "warnings.filterwarnings(\"ignore\")"
   ]
  },
  {
   "cell_type": "code",
   "execution_count": 2,
   "id": "f325d160-a5a1-4b1c-8a66-495d6ab69f94",
   "metadata": {},
   "outputs": [],
   "source": [
    "diesel = pd.read_csv('Diesel Price History - Hoja 1.csv')\n"
   ]
  },
  {
   "cell_type": "markdown",
   "id": "3f1c1661-4810-43af-91ca-213e97056aa5",
   "metadata": {},
   "source": [
    "##### Análisis de la información y limpieza"
   ]
  },
  {
   "cell_type": "code",
   "execution_count": 3,
   "id": "e1e32e6e-92fd-462b-a022-ef51fddcbc9b",
   "metadata": {},
   "outputs": [
    {
     "data": {
      "text/html": [
       "<div>\n",
       "<style scoped>\n",
       "    .dataframe tbody tr th:only-of-type {\n",
       "        vertical-align: middle;\n",
       "    }\n",
       "\n",
       "    .dataframe tbody tr th {\n",
       "        vertical-align: top;\n",
       "    }\n",
       "\n",
       "    .dataframe thead th {\n",
       "        text-align: right;\n",
       "    }\n",
       "</style>\n",
       "<table border=\"1\" class=\"dataframe\">\n",
       "  <thead>\n",
       "    <tr style=\"text-align: right;\">\n",
       "      <th></th>\n",
       "      <th>Fecha</th>\n",
       "      <th>Diesel mxn/lt</th>\n",
       "    </tr>\n",
       "  </thead>\n",
       "  <tbody>\n",
       "    <tr>\n",
       "      <th>0</th>\n",
       "      <td>01/01/2018</td>\n",
       "      <td>17.38</td>\n",
       "    </tr>\n",
       "    <tr>\n",
       "      <th>1</th>\n",
       "      <td>01/02/2018</td>\n",
       "      <td>17.94</td>\n",
       "    </tr>\n",
       "    <tr>\n",
       "      <th>2</th>\n",
       "      <td>01/03/2018</td>\n",
       "      <td>18.59</td>\n",
       "    </tr>\n",
       "    <tr>\n",
       "      <th>3</th>\n",
       "      <td>01/04/2018</td>\n",
       "      <td>18.70</td>\n",
       "    </tr>\n",
       "    <tr>\n",
       "      <th>4</th>\n",
       "      <td>01/05/2018</td>\n",
       "      <td>18.89</td>\n",
       "    </tr>\n",
       "  </tbody>\n",
       "</table>\n",
       "</div>"
      ],
      "text/plain": [
       "        Fecha  Diesel mxn/lt\n",
       "0  01/01/2018          17.38\n",
       "1  01/02/2018          17.94\n",
       "2  01/03/2018          18.59\n",
       "3  01/04/2018          18.70\n",
       "4  01/05/2018          18.89"
      ]
     },
     "execution_count": 3,
     "metadata": {},
     "output_type": "execute_result"
    }
   ],
   "source": [
    "diesel.head()"
   ]
  },
  {
   "cell_type": "code",
   "execution_count": 4,
   "id": "a2630aab-f59d-4909-94b4-e9b7f67c61e3",
   "metadata": {},
   "outputs": [],
   "source": [
    "diesel['Fecha']= diesel['Fecha'].str.replace('/', '-')"
   ]
  },
  {
   "cell_type": "code",
   "execution_count": 5,
   "id": "bcfd4c15-67c1-4da4-a4f7-76a231c60a7b",
   "metadata": {},
   "outputs": [],
   "source": [
    "diesel['Diesel mxn/lt'] = diesel['Diesel mxn/lt'].astype('float64')"
   ]
  },
  {
   "cell_type": "code",
   "execution_count": 6,
   "id": "526acd22-12b6-42af-8785-5183dc7b9811",
   "metadata": {},
   "outputs": [],
   "source": [
    "diesel['Fecha'] = pd.to_datetime(diesel['Fecha'])"
   ]
  },
  {
   "cell_type": "code",
   "execution_count": 7,
   "id": "5cd6b5d2-8c5b-4066-ac14-4e2cd7731843",
   "metadata": {},
   "outputs": [
    {
     "name": "stdout",
     "output_type": "stream",
     "text": [
      "<class 'pandas.core.frame.DataFrame'>\n",
      "RangeIndex: 62 entries, 0 to 61\n",
      "Data columns (total 2 columns):\n",
      " #   Column         Non-Null Count  Dtype         \n",
      "---  ------         --------------  -----         \n",
      " 0   Fecha          62 non-null     datetime64[ns]\n",
      " 1   Diesel mxn/lt  62 non-null     float64       \n",
      "dtypes: datetime64[ns](1), float64(1)\n",
      "memory usage: 1.1 KB\n"
     ]
    }
   ],
   "source": [
    "diesel.info()"
   ]
  },
  {
   "cell_type": "code",
   "execution_count": 8,
   "id": "e20867b9-2445-4e62-96c9-2c5ea894f009",
   "metadata": {},
   "outputs": [],
   "source": [
    "diesel = diesel.set_index('Fecha')"
   ]
  },
  {
   "cell_type": "code",
   "execution_count": 9,
   "id": "96d11bce-10b3-4b8d-a2ad-793a075507e1",
   "metadata": {
    "tags": []
   },
   "outputs": [
    {
     "data": {
      "text/html": [
       "<div>\n",
       "<style scoped>\n",
       "    .dataframe tbody tr th:only-of-type {\n",
       "        vertical-align: middle;\n",
       "    }\n",
       "\n",
       "    .dataframe tbody tr th {\n",
       "        vertical-align: top;\n",
       "    }\n",
       "\n",
       "    .dataframe thead th {\n",
       "        text-align: right;\n",
       "    }\n",
       "</style>\n",
       "<table border=\"1\" class=\"dataframe\">\n",
       "  <thead>\n",
       "    <tr style=\"text-align: right;\">\n",
       "      <th></th>\n",
       "      <th>Diesel mxn/lt</th>\n",
       "    </tr>\n",
       "    <tr>\n",
       "      <th>Fecha</th>\n",
       "      <th></th>\n",
       "    </tr>\n",
       "  </thead>\n",
       "  <tbody>\n",
       "    <tr>\n",
       "      <th>2018-01-01</th>\n",
       "      <td>17.38</td>\n",
       "    </tr>\n",
       "    <tr>\n",
       "      <th>2018-01-02</th>\n",
       "      <td>17.94</td>\n",
       "    </tr>\n",
       "    <tr>\n",
       "      <th>2018-01-03</th>\n",
       "      <td>18.59</td>\n",
       "    </tr>\n",
       "    <tr>\n",
       "      <th>2018-01-04</th>\n",
       "      <td>18.70</td>\n",
       "    </tr>\n",
       "    <tr>\n",
       "      <th>2018-01-05</th>\n",
       "      <td>18.89</td>\n",
       "    </tr>\n",
       "  </tbody>\n",
       "</table>\n",
       "</div>"
      ],
      "text/plain": [
       "            Diesel mxn/lt\n",
       "Fecha                    \n",
       "2018-01-01          17.38\n",
       "2018-01-02          17.94\n",
       "2018-01-03          18.59\n",
       "2018-01-04          18.70\n",
       "2018-01-05          18.89"
      ]
     },
     "execution_count": 9,
     "metadata": {},
     "output_type": "execute_result"
    }
   ],
   "source": [
    "diesel.head()"
   ]
  },
  {
   "cell_type": "code",
   "execution_count": 10,
   "id": "fbbcadec-c9c2-4940-b070-ca3bed074948",
   "metadata": {},
   "outputs": [
    {
     "data": {
      "text/html": [
       "<div>\n",
       "<style scoped>\n",
       "    .dataframe tbody tr th:only-of-type {\n",
       "        vertical-align: middle;\n",
       "    }\n",
       "\n",
       "    .dataframe tbody tr th {\n",
       "        vertical-align: top;\n",
       "    }\n",
       "\n",
       "    .dataframe thead th {\n",
       "        text-align: right;\n",
       "    }\n",
       "</style>\n",
       "<table border=\"1\" class=\"dataframe\">\n",
       "  <thead>\n",
       "    <tr style=\"text-align: right;\">\n",
       "      <th></th>\n",
       "      <th>Diesel mxn/lt</th>\n",
       "    </tr>\n",
       "    <tr>\n",
       "      <th>Fecha</th>\n",
       "      <th></th>\n",
       "    </tr>\n",
       "  </thead>\n",
       "  <tbody>\n",
       "    <tr>\n",
       "      <th>2022-01-10</th>\n",
       "      <td>23.31</td>\n",
       "    </tr>\n",
       "    <tr>\n",
       "      <th>2022-01-11</th>\n",
       "      <td>23.17</td>\n",
       "    </tr>\n",
       "    <tr>\n",
       "      <th>2022-01-12</th>\n",
       "      <td>23.02</td>\n",
       "    </tr>\n",
       "    <tr>\n",
       "      <th>2023-01-01</th>\n",
       "      <td>22.95</td>\n",
       "    </tr>\n",
       "    <tr>\n",
       "      <th>2023-01-02</th>\n",
       "      <td>23.28</td>\n",
       "    </tr>\n",
       "  </tbody>\n",
       "</table>\n",
       "</div>"
      ],
      "text/plain": [
       "            Diesel mxn/lt\n",
       "Fecha                    \n",
       "2022-01-10          23.31\n",
       "2022-01-11          23.17\n",
       "2022-01-12          23.02\n",
       "2023-01-01          22.95\n",
       "2023-01-02          23.28"
      ]
     },
     "execution_count": 10,
     "metadata": {},
     "output_type": "execute_result"
    }
   ],
   "source": [
    "diesel.tail()"
   ]
  },
  {
   "cell_type": "code",
   "execution_count": 11,
   "id": "70e3d8fa-8bfd-4eb1-b12c-5f3e4c34949b",
   "metadata": {},
   "outputs": [
    {
     "data": {
      "image/png": "[encoded data removed]",
      "text/plain": [
       "<Figure size 1080x360 with 1 Axes>"
      ]
     },
     "metadata": {
      "needs_background": "light"
     },
     "output_type": "display_data"
    }
   ],
   "source": [
    "diesel.plot(figsize=(15, 5),title='Diesel (mxn/lt)  Historial de Precio')\n",
    "plt.show()"
   ]
  },
  {
   "cell_type": "code",
   "execution_count": 12,
   "id": "05ff9d8d-9de1-4b2b-9289-8f7e4f0875ea",
   "metadata": {},
   "outputs": [],
   "source": [
    "diesel1=diesel.copy()"
   ]
  },
  {
   "cell_type": "markdown",
   "id": "609c2c89-eabf-4044-a06e-ed842bfacb8d",
   "metadata": {},
   "source": [
    "##### Entrenamiento de los datos"
   ]
  },
  {
   "cell_type": "code",
   "execution_count": 13,
   "id": "6cfac066-8f9b-433f-b716-abba7f5d9c17",
   "metadata": {},
   "outputs": [
    {
     "data": {
      "image/png": "[encoded data removed]",
      "text/plain": [
       "<Figure size 720x360 with 1 Axes>"
      ]
     },
     "metadata": {
      "needs_background": "light"
     },
     "output_type": "display_data"
    }
   ],
   "source": [
    "split_date = '1-Jul-2022'\n",
    "diesel1_train = diesel1.loc[diesel1.index <= split_date].copy()\n",
    "diesel1_test = diesel1.loc[diesel1.index > split_date].copy()\n",
    "\n",
    "# Plot train and test so you can see where we have split\n",
    "diesel1_test \\\n",
    "    .rename(columns={'Diesel mxn/lt': 'TEST SET'}) \\\n",
    "    .join(diesel1_train.rename(columns={'Diesel mxn/lt': 'TRAINING SET'}),\n",
    "          how='outer') \\\n",
    "    .plot(figsize=(10, 5), title='Diesel mxn/lt', ms=1)\n",
    "plt.show()"
   ]
  },
  {
   "cell_type": "code",
   "execution_count": 14,
   "id": "91cf8ebc-a826-4dfc-aec3-b57af8676dbd",
   "metadata": {},
   "outputs": [],
   "source": [
    "diesel1_train_prophet = diesel1_train.reset_index() \\\n",
    "    .rename(columns={'Fecha':'ds',\n",
    "                     'Diesel mxn/lt':'y'})"
   ]
  },
  {
   "cell_type": "code",
   "execution_count": 15,
   "id": "38ea4257-e1eb-49ea-aa79-f01ce223ee32",
   "metadata": {},
   "outputs": [
    {
     "data": {
      "text/html": [
       "<div>\n",
       "<style scoped>\n",
       "    .dataframe tbody tr th:only-of-type {\n",
       "        vertical-align: middle;\n",
       "    }\n",
       "\n",
       "    .dataframe tbody tr th {\n",
       "        vertical-align: top;\n",
       "    }\n",
       "\n",
       "    .dataframe thead th {\n",
       "        text-align: right;\n",
       "    }\n",
       "</style>\n",
       "<table border=\"1\" class=\"dataframe\">\n",
       "  <thead>\n",
       "    <tr style=\"text-align: right;\">\n",
       "      <th></th>\n",
       "      <th>ds</th>\n",
       "      <th>y</th>\n",
       "    </tr>\n",
       "  </thead>\n",
       "  <tbody>\n",
       "    <tr>\n",
       "      <th>0</th>\n",
       "      <td>2018-01-01</td>\n",
       "      <td>17.38</td>\n",
       "    </tr>\n",
       "    <tr>\n",
       "      <th>1</th>\n",
       "      <td>2018-01-02</td>\n",
       "      <td>17.94</td>\n",
       "    </tr>\n",
       "    <tr>\n",
       "      <th>2</th>\n",
       "      <td>2018-01-03</td>\n",
       "      <td>18.59</td>\n",
       "    </tr>\n",
       "    <tr>\n",
       "      <th>3</th>\n",
       "      <td>2018-01-04</td>\n",
       "      <td>18.70</td>\n",
       "    </tr>\n",
       "    <tr>\n",
       "      <th>4</th>\n",
       "      <td>2018-01-05</td>\n",
       "      <td>18.89</td>\n",
       "    </tr>\n",
       "    <tr>\n",
       "      <th>5</th>\n",
       "      <td>2018-01-06</td>\n",
       "      <td>18.96</td>\n",
       "    </tr>\n",
       "    <tr>\n",
       "      <th>6</th>\n",
       "      <td>2018-01-07</td>\n",
       "      <td>19.21</td>\n",
       "    </tr>\n",
       "    <tr>\n",
       "      <th>7</th>\n",
       "      <td>2018-01-08</td>\n",
       "      <td>19.60</td>\n",
       "    </tr>\n",
       "    <tr>\n",
       "      <th>8</th>\n",
       "      <td>2018-01-09</td>\n",
       "      <td>20.07</td>\n",
       "    </tr>\n",
       "    <tr>\n",
       "      <th>9</th>\n",
       "      <td>2018-01-10</td>\n",
       "      <td>20.52</td>\n",
       "    </tr>\n",
       "    <tr>\n",
       "      <th>10</th>\n",
       "      <td>2018-01-11</td>\n",
       "      <td>20.73</td>\n",
       "    </tr>\n",
       "    <tr>\n",
       "      <th>11</th>\n",
       "      <td>2018-01-12</td>\n",
       "      <td>20.90</td>\n",
       "    </tr>\n",
       "    <tr>\n",
       "      <th>12</th>\n",
       "      <td>2019-01-01</td>\n",
       "      <td>20.74</td>\n",
       "    </tr>\n",
       "    <tr>\n",
       "      <th>13</th>\n",
       "      <td>2019-01-02</td>\n",
       "      <td>20.74</td>\n",
       "    </tr>\n",
       "    <tr>\n",
       "      <th>14</th>\n",
       "      <td>2019-01-03</td>\n",
       "      <td>21.61</td>\n",
       "    </tr>\n",
       "    <tr>\n",
       "      <th>15</th>\n",
       "      <td>2019-01-04</td>\n",
       "      <td>21.78</td>\n",
       "    </tr>\n",
       "    <tr>\n",
       "      <th>16</th>\n",
       "      <td>2019-01-05</td>\n",
       "      <td>21.33</td>\n",
       "    </tr>\n",
       "    <tr>\n",
       "      <th>17</th>\n",
       "      <td>2019-01-06</td>\n",
       "      <td>21.23</td>\n",
       "    </tr>\n",
       "    <tr>\n",
       "      <th>18</th>\n",
       "      <td>2019-01-07</td>\n",
       "      <td>21.11</td>\n",
       "    </tr>\n",
       "    <tr>\n",
       "      <th>19</th>\n",
       "      <td>2019-01-08</td>\n",
       "      <td>21.27</td>\n",
       "    </tr>\n",
       "    <tr>\n",
       "      <th>20</th>\n",
       "      <td>2019-01-09</td>\n",
       "      <td>21.21</td>\n",
       "    </tr>\n",
       "    <tr>\n",
       "      <th>21</th>\n",
       "      <td>2019-01-10</td>\n",
       "      <td>20.96</td>\n",
       "    </tr>\n",
       "    <tr>\n",
       "      <th>22</th>\n",
       "      <td>2019-01-11</td>\n",
       "      <td>21.03</td>\n",
       "    </tr>\n",
       "    <tr>\n",
       "      <th>23</th>\n",
       "      <td>2019-01-12</td>\n",
       "      <td>20.95</td>\n",
       "    </tr>\n",
       "    <tr>\n",
       "      <th>24</th>\n",
       "      <td>2020-01-01</td>\n",
       "      <td>21.10</td>\n",
       "    </tr>\n",
       "    <tr>\n",
       "      <th>25</th>\n",
       "      <td>2020-01-02</td>\n",
       "      <td>21.18</td>\n",
       "    </tr>\n",
       "    <tr>\n",
       "      <th>26</th>\n",
       "      <td>2020-01-03</td>\n",
       "      <td>21.08</td>\n",
       "    </tr>\n",
       "    <tr>\n",
       "      <th>27</th>\n",
       "      <td>2020-01-04</td>\n",
       "      <td>19.86</td>\n",
       "    </tr>\n",
       "    <tr>\n",
       "      <th>28</th>\n",
       "      <td>2020-01-05</td>\n",
       "      <td>18.71</td>\n",
       "    </tr>\n",
       "    <tr>\n",
       "      <th>29</th>\n",
       "      <td>2020-01-06</td>\n",
       "      <td>18.21</td>\n",
       "    </tr>\n",
       "    <tr>\n",
       "      <th>30</th>\n",
       "      <td>2020-01-07</td>\n",
       "      <td>18.82</td>\n",
       "    </tr>\n",
       "    <tr>\n",
       "      <th>31</th>\n",
       "      <td>2020-01-08</td>\n",
       "      <td>19.40</td>\n",
       "    </tr>\n",
       "    <tr>\n",
       "      <th>32</th>\n",
       "      <td>2020-01-09</td>\n",
       "      <td>19.59</td>\n",
       "    </tr>\n",
       "    <tr>\n",
       "      <th>33</th>\n",
       "      <td>2020-01-10</td>\n",
       "      <td>19.45</td>\n",
       "    </tr>\n",
       "    <tr>\n",
       "      <th>34</th>\n",
       "      <td>2020-01-11</td>\n",
       "      <td>18.91</td>\n",
       "    </tr>\n",
       "    <tr>\n",
       "      <th>35</th>\n",
       "      <td>2020-01-12</td>\n",
       "      <td>18.75</td>\n",
       "    </tr>\n",
       "    <tr>\n",
       "      <th>36</th>\n",
       "      <td>2021-01-01</td>\n",
       "      <td>19.03</td>\n",
       "    </tr>\n",
       "    <tr>\n",
       "      <th>37</th>\n",
       "      <td>2021-01-02</td>\n",
       "      <td>19.61</td>\n",
       "    </tr>\n",
       "    <tr>\n",
       "      <th>38</th>\n",
       "      <td>2021-01-03</td>\n",
       "      <td>20.28</td>\n",
       "    </tr>\n",
       "    <tr>\n",
       "      <th>39</th>\n",
       "      <td>2021-01-04</td>\n",
       "      <td>20.99</td>\n",
       "    </tr>\n",
       "    <tr>\n",
       "      <th>40</th>\n",
       "      <td>2021-01-05</td>\n",
       "      <td>21.14</td>\n",
       "    </tr>\n",
       "    <tr>\n",
       "      <th>41</th>\n",
       "      <td>2021-01-06</td>\n",
       "      <td>21.40</td>\n",
       "    </tr>\n",
       "    <tr>\n",
       "      <th>42</th>\n",
       "      <td>2021-01-07</td>\n",
       "      <td>21.49</td>\n",
       "    </tr>\n",
       "    <tr>\n",
       "      <th>43</th>\n",
       "      <td>2021-01-08</td>\n",
       "      <td>21.49</td>\n",
       "    </tr>\n",
       "    <tr>\n",
       "      <th>44</th>\n",
       "      <td>2021-01-09</td>\n",
       "      <td>21.52</td>\n",
       "    </tr>\n",
       "    <tr>\n",
       "      <th>45</th>\n",
       "      <td>2021-01-10</td>\n",
       "      <td>21.63</td>\n",
       "    </tr>\n",
       "    <tr>\n",
       "      <th>46</th>\n",
       "      <td>2021-01-11</td>\n",
       "      <td>21.37</td>\n",
       "    </tr>\n",
       "    <tr>\n",
       "      <th>47</th>\n",
       "      <td>2021-01-12</td>\n",
       "      <td>21.35</td>\n",
       "    </tr>\n",
       "    <tr>\n",
       "      <th>48</th>\n",
       "      <td>2022-01-01</td>\n",
       "      <td>21.45</td>\n",
       "    </tr>\n",
       "    <tr>\n",
       "      <th>49</th>\n",
       "      <td>2022-01-02</td>\n",
       "      <td>21.62</td>\n",
       "    </tr>\n",
       "    <tr>\n",
       "      <th>50</th>\n",
       "      <td>2022-01-03</td>\n",
       "      <td>22.00</td>\n",
       "    </tr>\n",
       "    <tr>\n",
       "      <th>51</th>\n",
       "      <td>2022-01-04</td>\n",
       "      <td>22.28</td>\n",
       "    </tr>\n",
       "    <tr>\n",
       "      <th>52</th>\n",
       "      <td>2022-01-05</td>\n",
       "      <td>23.10</td>\n",
       "    </tr>\n",
       "    <tr>\n",
       "      <th>53</th>\n",
       "      <td>2022-01-06</td>\n",
       "      <td>23.10</td>\n",
       "    </tr>\n",
       "    <tr>\n",
       "      <th>54</th>\n",
       "      <td>2022-01-07</td>\n",
       "      <td>22.90</td>\n",
       "    </tr>\n",
       "    <tr>\n",
       "      <th>55</th>\n",
       "      <td>2022-01-08</td>\n",
       "      <td>23.00</td>\n",
       "    </tr>\n",
       "    <tr>\n",
       "      <th>56</th>\n",
       "      <td>2022-01-09</td>\n",
       "      <td>23.07</td>\n",
       "    </tr>\n",
       "    <tr>\n",
       "      <th>57</th>\n",
       "      <td>2022-01-10</td>\n",
       "      <td>23.31</td>\n",
       "    </tr>\n",
       "    <tr>\n",
       "      <th>58</th>\n",
       "      <td>2022-01-11</td>\n",
       "      <td>23.17</td>\n",
       "    </tr>\n",
       "    <tr>\n",
       "      <th>59</th>\n",
       "      <td>2022-01-12</td>\n",
       "      <td>23.02</td>\n",
       "    </tr>\n",
       "  </tbody>\n",
       "</table>\n",
       "</div>"
      ],
      "text/plain": [
       "           ds      y\n",
       "0  2018-01-01  17.38\n",
       "1  2018-01-02  17.94\n",
       "2  2018-01-03  18.59\n",
       "3  2018-01-04  18.70\n",
       "4  2018-01-05  18.89\n",
       "5  2018-01-06  18.96\n",
       "6  2018-01-07  19.21\n",
       "7  2018-01-08  19.60\n",
       "8  2018-01-09  20.07\n",
       "9  2018-01-10  20.52\n",
       "10 2018-01-11  20.73\n",
       "11 2018-01-12  20.90\n",
       "12 2019-01-01  20.74\n",
       "13 2019-01-02  20.74\n",
       "14 2019-01-03  21.61\n",
       "15 2019-01-04  21.78\n",
       "16 2019-01-05  21.33\n",
       "17 2019-01-06  21.23\n",
       "18 2019-01-07  21.11\n",
       "19 2019-01-08  21.27\n",
       "20 2019-01-09  21.21\n",
       "21 2019-01-10  20.96\n",
       "22 2019-01-11  21.03\n",
       "23 2019-01-12  20.95\n",
       "24 2020-01-01  21.10\n",
       "25 2020-01-02  21.18\n",
       "26 2020-01-03  21.08\n",
       "27 2020-01-04  19.86\n",
       "28 2020-01-05  18.71\n",
       "29 2020-01-06  18.21\n",
       "30 2020-01-07  18.82\n",
       "31 2020-01-08  19.40\n",
       "32 2020-01-09  19.59\n",
       "33 2020-01-10  19.45\n",
       "34 2020-01-11  18.91\n",
       "35 2020-01-12  18.75\n",
       "36 2021-01-01  19.03\n",
       "37 2021-01-02  19.61\n",
       "38 2021-01-03  20.28\n",
       "39 2021-01-04  20.99\n",
       "40 2021-01-05  21.14\n",
       "41 2021-01-06  21.40\n",
       "42 2021-01-07  21.49\n",
       "43 2021-01-08  21.49\n",
       "44 2021-01-09  21.52\n",
       "45 2021-01-10  21.63\n",
       "46 2021-01-11  21.37\n",
       "47 2021-01-12  21.35\n",
       "48 2022-01-01  21.45\n",
       "49 2022-01-02  21.62\n",
       "50 2022-01-03  22.00\n",
       "51 2022-01-04  22.28\n",
       "52 2022-01-05  23.10\n",
       "53 2022-01-06  23.10\n",
       "54 2022-01-07  22.90\n",
       "55 2022-01-08  23.00\n",
       "56 2022-01-09  23.07\n",
       "57 2022-01-10  23.31\n",
       "58 2022-01-11  23.17\n",
       "59 2022-01-12  23.02"
      ]
     },
     "execution_count": 15,
     "metadata": {},
     "output_type": "execute_result"
    }
   ],
   "source": [
    "diesel1_train_prophet"
   ]
  },
  {
   "cell_type": "code",
   "execution_count": 16,
   "id": "813f939e-4b09-43ee-8360-7bfe786d515a",
   "metadata": {},
   "outputs": [
    {
     "name": "stderr",
     "output_type": "stream",
     "text": [
      "16:07:29 - cmdstanpy - INFO - Chain [1] start processing\n",
      "16:07:29 - cmdstanpy - INFO - Chain [1] done processing\n"
     ]
    },
    {
     "data": {
      "text/plain": [
       "<prophet.forecaster.Prophet at 0x13189796c10>"
      ]
     },
     "execution_count": 16,
     "metadata": {},
     "output_type": "execute_result"
    }
   ],
   "source": [
    "model = Prophet()\n",
    "model.fit(diesel1_train_prophet)"
   ]
  },
  {
   "cell_type": "code",
   "execution_count": 17,
   "id": "9df0e591-16fc-4ac6-86de-e592ea86ba6f",
   "metadata": {
    "tags": []
   },
   "outputs": [],
   "source": [
    "diesel1_test_prophet = diesel1_test.reset_index() \\\n",
    "    .rename(columns={'Fecha':'ds',\n",
    "                     'Diesel mxn/lt':'y'})\n",
    "\n",
    "diesel1_test_fcst = model.predict(diesel1_test_prophet)"
   ]
  },
  {
   "cell_type": "code",
   "execution_count": 18,
   "id": "71da50e3-aea1-4081-b008-6b947254ff39",
   "metadata": {},
   "outputs": [
    {
     "data": {
      "text/html": [
       "<div>\n",
       "<style scoped>\n",
       "    .dataframe tbody tr th:only-of-type {\n",
       "        vertical-align: middle;\n",
       "    }\n",
       "\n",
       "    .dataframe tbody tr th {\n",
       "        vertical-align: top;\n",
       "    }\n",
       "\n",
       "    .dataframe thead th {\n",
       "        text-align: right;\n",
       "    }\n",
       "</style>\n",
       "<table border=\"1\" class=\"dataframe\">\n",
       "  <thead>\n",
       "    <tr style=\"text-align: right;\">\n",
       "      <th></th>\n",
       "      <th>ds</th>\n",
       "      <th>trend</th>\n",
       "      <th>yhat_lower</th>\n",
       "      <th>yhat_upper</th>\n",
       "      <th>trend_lower</th>\n",
       "      <th>trend_upper</th>\n",
       "      <th>additive_terms</th>\n",
       "      <th>additive_terms_lower</th>\n",
       "      <th>additive_terms_upper</th>\n",
       "      <th>weekly</th>\n",
       "      <th>weekly_lower</th>\n",
       "      <th>weekly_upper</th>\n",
       "      <th>yearly</th>\n",
       "      <th>yearly_lower</th>\n",
       "      <th>yearly_upper</th>\n",
       "      <th>multiplicative_terms</th>\n",
       "      <th>multiplicative_terms_lower</th>\n",
       "      <th>multiplicative_terms_upper</th>\n",
       "      <th>yhat</th>\n",
       "    </tr>\n",
       "  </thead>\n",
       "  <tbody>\n",
       "    <tr>\n",
       "      <th>0</th>\n",
       "      <td>2023-01-01</td>\n",
       "      <td>9.103775</td>\n",
       "      <td>22.312855</td>\n",
       "      <td>24.099398</td>\n",
       "      <td>9.103775</td>\n",
       "      <td>9.103775</td>\n",
       "      <td>14.109036</td>\n",
       "      <td>14.109036</td>\n",
       "      <td>14.109036</td>\n",
       "      <td>-0.352233</td>\n",
       "      <td>-0.352233</td>\n",
       "      <td>-0.352233</td>\n",
       "      <td>14.461269</td>\n",
       "      <td>14.461269</td>\n",
       "      <td>14.461269</td>\n",
       "      <td>0.0</td>\n",
       "      <td>0.0</td>\n",
       "      <td>0.0</td>\n",
       "      <td>23.212811</td>\n",
       "    </tr>\n",
       "    <tr>\n",
       "      <th>1</th>\n",
       "      <td>2023-01-02</td>\n",
       "      <td>9.107727</td>\n",
       "      <td>22.264191</td>\n",
       "      <td>24.144339</td>\n",
       "      <td>9.107727</td>\n",
       "      <td>9.107727</td>\n",
       "      <td>14.112562</td>\n",
       "      <td>14.112562</td>\n",
       "      <td>14.112562</td>\n",
       "      <td>-0.330697</td>\n",
       "      <td>-0.330697</td>\n",
       "      <td>-0.330697</td>\n",
       "      <td>14.443258</td>\n",
       "      <td>14.443258</td>\n",
       "      <td>14.443258</td>\n",
       "      <td>0.0</td>\n",
       "      <td>0.0</td>\n",
       "      <td>0.0</td>\n",
       "      <td>23.220289</td>\n",
       "    </tr>\n",
       "  </tbody>\n",
       "</table>\n",
       "</div>"
      ],
      "text/plain": [
       "          ds     trend  yhat_lower  yhat_upper  trend_lower  trend_upper  \\\n",
       "0 2023-01-01  9.103775   22.312855   24.099398     9.103775     9.103775   \n",
       "1 2023-01-02  9.107727   22.264191   24.144339     9.107727     9.107727   \n",
       "\n",
       "   additive_terms  additive_terms_lower  additive_terms_upper    weekly  \\\n",
       "0       14.109036             14.109036             14.109036 -0.352233   \n",
       "1       14.112562             14.112562             14.112562 -0.330697   \n",
       "\n",
       "   weekly_lower  weekly_upper     yearly  yearly_lower  yearly_upper  \\\n",
       "0     -0.352233     -0.352233  14.461269     14.461269     14.461269   \n",
       "1     -0.330697     -0.330697  14.443258     14.443258     14.443258   \n",
       "\n",
       "   multiplicative_terms  multiplicative_terms_lower  \\\n",
       "0                   0.0                         0.0   \n",
       "1                   0.0                         0.0   \n",
       "\n",
       "   multiplicative_terms_upper       yhat  \n",
       "0                         0.0  23.212811  \n",
       "1                         0.0  23.220289  "
      ]
     },
     "execution_count": 18,
     "metadata": {},
     "output_type": "execute_result"
    }
   ],
   "source": [
    "diesel1_test_fcst.head()"
   ]
  },
  {
   "cell_type": "code",
   "execution_count": 19,
   "id": "4bab0af2-753d-4234-9090-3515b12d7429",
   "metadata": {},
   "outputs": [
    {
     "data": {
      "image/png": "[encoded data removed]",
      "text/plain": [
       "<Figure size 720x360 with 1 Axes>"
      ]
     },
     "metadata": {
      "needs_background": "light"
     },
     "output_type": "display_data"
    }
   ],
   "source": [
    "fig, ax = plt.subplots(figsize=(10, 5))\n",
    "fig = model.plot(diesel1_test_fcst, ax=ax)\n",
    "ax.set_title('Prophet Forecast')\n",
    "plt.show()"
   ]
  },
  {
   "cell_type": "code",
   "execution_count": 20,
   "id": "f946e5ef-7d1a-41f8-bd97-82d026a1c061",
   "metadata": {},
   "outputs": [
    {
     "data": {
      "image/png": "[encoded data removed]",
      "text/plain": [
       "<Figure size 648x648 with 3 Axes>"
      ]
     },
     "metadata": {},
     "output_type": "display_data"
    }
   ],
   "source": [
    "fig = model.plot_components(diesel1_test_fcst)\n",
    "plt.show()"
   ]
  },
  {
   "cell_type": "code",
   "execution_count": 21,
   "id": "dc2d0bea-59ff-4360-aeee-34b0a30dde86",
   "metadata": {},
   "outputs": [
    {
     "data": {
      "image/png": "[encoded data removed]",
      "text/plain": [
       "<Figure size 1080x360 with 1 Axes>"
      ]
     },
     "metadata": {
      "needs_background": "light"
     },
     "output_type": "display_data"
    }
   ],
   "source": [
    "f, ax = plt.subplots(figsize=(15, 5))\n",
    "ax.scatter(diesel1_test.index, diesel1_test['Diesel mxn/lt'], color='r')\n",
    "fig = model.plot(diesel1_test_fcst, ax=ax)"
   ]
  },
  {
   "cell_type": "code",
   "execution_count": 22,
   "id": "8e84c09d-15b7-41b0-86b2-cf2dd64f2df0",
   "metadata": {},
   "outputs": [
    {
     "data": {
      "image/png": "[encoded data removed]",
      "text/plain": [
       "<Figure size 720x360 with 1 Axes>"
      ]
     },
     "metadata": {
      "needs_background": "light"
     },
     "output_type": "display_data"
    }
   ],
   "source": [
    "fig, ax = plt.subplots(figsize=(10, 5))\n",
    "ax.scatter(diesel1_test.index, diesel1_test['Diesel mxn/lt'], color='r')\n",
    "fig = model.plot(diesel1_test_fcst, ax=ax)\n",
    "ax.set_xbound(lower='01-07-2022',\n",
    "              upper='01-11-2022')\n",
    "ax.set_ylim(10, 25)\n",
    "plot = plt.suptitle('July 2022 Forecast vs Actuals')"
   ]
  },
  {
   "cell_type": "code",
   "execution_count": 23,
   "id": "eef4e0ac-e9f6-48b1-8545-1f543a5c8a0e",
   "metadata": {},
   "outputs": [
    {
     "data": {
      "text/plain": [
       "0.190571339675613"
      ]
     },
     "execution_count": 23,
     "metadata": {},
     "output_type": "execute_result"
    }
   ],
   "source": [
    "np.sqrt(mean_squared_error(y_true=diesel1_test['Diesel mxn/lt'],\n",
    "                   y_pred=diesel1_test_fcst['yhat']))"
   ]
  },
  {
   "cell_type": "code",
   "execution_count": 24,
   "id": "808f7af7-c59f-4de6-bfff-ecaa25edff86",
   "metadata": {},
   "outputs": [
    {
     "data": {
      "text/plain": [
       "0.16126076534341394"
      ]
     },
     "execution_count": 24,
     "metadata": {},
     "output_type": "execute_result"
    }
   ],
   "source": [
    "mean_absolute_error(y_true=diesel1_test['Diesel mxn/lt'],\n",
    "                   y_pred=diesel1_test_fcst['yhat'])"
   ]
  },
  {
   "cell_type": "code",
   "execution_count": 25,
   "id": "f6169da9-4e2f-48ef-87bb-d4907ff14fcc",
   "metadata": {},
   "outputs": [],
   "source": [
    "# Calculates MAPE given y_true and y_pred\n",
    "def mean_absolute_percentage_error(y_true, y_pred): \n",
    "    y_true, y_pred = np.array(y_true), np.array(y_pred)\n",
    "    return np.mean(np.abs((y_true - y_pred) / y_true)) * 100"
   ]
  },
  {
   "cell_type": "code",
   "execution_count": 26,
   "id": "68b12a3f-ade2-4750-a9de-5985e7ad61e7",
   "metadata": {},
   "outputs": [
    {
     "data": {
      "text/plain": [
       "0.7008172442236821"
      ]
     },
     "execution_count": 26,
     "metadata": {},
     "output_type": "execute_result"
    }
   ],
   "source": [
    "mean_absolute_percentage_error(y_true=diesel1_test['Diesel mxn/lt'],\n",
    "                   y_pred=diesel1_test_fcst['yhat'])"
   ]
  },
  {
   "cell_type": "code",
   "execution_count": 27,
   "id": "27fe941d-e847-458c-bec2-044ae59bae82",
   "metadata": {},
   "outputs": [],
   "source": [
    "future = model.make_future_dataframe(periods=365, include_history=False)"
   ]
  },
  {
   "cell_type": "code",
   "execution_count": 28,
   "id": "1e39f2b8-9a54-4f52-98f6-0d0a63ff82be",
   "metadata": {},
   "outputs": [],
   "source": [
    "forecast_diesel = model.predict(future)"
   ]
  },
  {
   "cell_type": "code",
   "execution_count": 29,
   "id": "464c9a5d-c96a-4de0-ba06-0abbdf284585",
   "metadata": {},
   "outputs": [
    {
     "data": {
      "text/html": [
       "<div>\n",
       "<style scoped>\n",
       "    .dataframe tbody tr th:only-of-type {\n",
       "        vertical-align: middle;\n",
       "    }\n",
       "\n",
       "    .dataframe tbody tr th {\n",
       "        vertical-align: top;\n",
       "    }\n",
       "\n",
       "    .dataframe thead th {\n",
       "        text-align: right;\n",
       "    }\n",
       "</style>\n",
       "<table border=\"1\" class=\"dataframe\">\n",
       "  <thead>\n",
       "    <tr style=\"text-align: right;\">\n",
       "      <th></th>\n",
       "      <th>ds</th>\n",
       "      <th>trend</th>\n",
       "      <th>yhat_lower</th>\n",
       "      <th>yhat_upper</th>\n",
       "      <th>trend_lower</th>\n",
       "      <th>trend_upper</th>\n",
       "      <th>additive_terms</th>\n",
       "      <th>additive_terms_lower</th>\n",
       "      <th>additive_terms_upper</th>\n",
       "      <th>weekly</th>\n",
       "      <th>weekly_lower</th>\n",
       "      <th>weekly_upper</th>\n",
       "      <th>yearly</th>\n",
       "      <th>yearly_lower</th>\n",
       "      <th>yearly_upper</th>\n",
       "      <th>multiplicative_terms</th>\n",
       "      <th>multiplicative_terms_lower</th>\n",
       "      <th>multiplicative_terms_upper</th>\n",
       "      <th>yhat</th>\n",
       "    </tr>\n",
       "  </thead>\n",
       "  <tbody>\n",
       "    <tr>\n",
       "      <th>360</th>\n",
       "      <td>2023-01-08</td>\n",
       "      <td>9.131441</td>\n",
       "      <td>22.805607</td>\n",
       "      <td>24.870205</td>\n",
       "      <td>8.704710</td>\n",
       "      <td>9.528959</td>\n",
       "      <td>14.712309</td>\n",
       "      <td>14.712309</td>\n",
       "      <td>14.712309</td>\n",
       "      <td>-0.352233</td>\n",
       "      <td>-0.352233</td>\n",
       "      <td>-0.352233</td>\n",
       "      <td>15.064543</td>\n",
       "      <td>15.064543</td>\n",
       "      <td>15.064543</td>\n",
       "      <td>0.0</td>\n",
       "      <td>0.0</td>\n",
       "      <td>0.0</td>\n",
       "      <td>23.843751</td>\n",
       "    </tr>\n",
       "    <tr>\n",
       "      <th>361</th>\n",
       "      <td>2023-01-09</td>\n",
       "      <td>9.135394</td>\n",
       "      <td>22.931920</td>\n",
       "      <td>25.002979</td>\n",
       "      <td>8.706780</td>\n",
       "      <td>9.534577</td>\n",
       "      <td>14.800643</td>\n",
       "      <td>14.800643</td>\n",
       "      <td>14.800643</td>\n",
       "      <td>-0.330697</td>\n",
       "      <td>-0.330697</td>\n",
       "      <td>-0.330697</td>\n",
       "      <td>15.131339</td>\n",
       "      <td>15.131339</td>\n",
       "      <td>15.131339</td>\n",
       "      <td>0.0</td>\n",
       "      <td>0.0</td>\n",
       "      <td>0.0</td>\n",
       "      <td>23.936036</td>\n",
       "    </tr>\n",
       "    <tr>\n",
       "      <th>362</th>\n",
       "      <td>2023-01-10</td>\n",
       "      <td>9.139346</td>\n",
       "      <td>23.314632</td>\n",
       "      <td>25.210909</td>\n",
       "      <td>8.708855</td>\n",
       "      <td>9.539159</td>\n",
       "      <td>15.100277</td>\n",
       "      <td>15.100277</td>\n",
       "      <td>15.100277</td>\n",
       "      <td>-0.083750</td>\n",
       "      <td>-0.083750</td>\n",
       "      <td>-0.083750</td>\n",
       "      <td>15.184027</td>\n",
       "      <td>15.184027</td>\n",
       "      <td>15.184027</td>\n",
       "      <td>0.0</td>\n",
       "      <td>0.0</td>\n",
       "      <td>0.0</td>\n",
       "      <td>24.239623</td>\n",
       "    </tr>\n",
       "    <tr>\n",
       "      <th>363</th>\n",
       "      <td>2023-01-11</td>\n",
       "      <td>9.143298</td>\n",
       "      <td>23.683957</td>\n",
       "      <td>25.719903</td>\n",
       "      <td>8.710930</td>\n",
       "      <td>9.543622</td>\n",
       "      <td>15.575320</td>\n",
       "      <td>15.575320</td>\n",
       "      <td>15.575320</td>\n",
       "      <td>0.340607</td>\n",
       "      <td>0.340607</td>\n",
       "      <td>0.340607</td>\n",
       "      <td>15.234713</td>\n",
       "      <td>15.234713</td>\n",
       "      <td>15.234713</td>\n",
       "      <td>0.0</td>\n",
       "      <td>0.0</td>\n",
       "      <td>0.0</td>\n",
       "      <td>24.718618</td>\n",
       "    </tr>\n",
       "    <tr>\n",
       "      <th>364</th>\n",
       "      <td>2023-01-12</td>\n",
       "      <td>9.147251</td>\n",
       "      <td>23.868618</td>\n",
       "      <td>25.933070</td>\n",
       "      <td>8.713004</td>\n",
       "      <td>9.548252</td>\n",
       "      <td>15.777788</td>\n",
       "      <td>15.777788</td>\n",
       "      <td>15.777788</td>\n",
       "      <td>0.478245</td>\n",
       "      <td>0.478245</td>\n",
       "      <td>0.478245</td>\n",
       "      <td>15.299543</td>\n",
       "      <td>15.299543</td>\n",
       "      <td>15.299543</td>\n",
       "      <td>0.0</td>\n",
       "      <td>0.0</td>\n",
       "      <td>0.0</td>\n",
       "      <td>24.925038</td>\n",
       "    </tr>\n",
       "  </tbody>\n",
       "</table>\n",
       "</div>"
      ],
      "text/plain": [
       "            ds     trend  yhat_lower  yhat_upper  trend_lower  trend_upper  \\\n",
       "360 2023-01-08  9.131441   22.805607   24.870205     8.704710     9.528959   \n",
       "361 2023-01-09  9.135394   22.931920   25.002979     8.706780     9.534577   \n",
       "362 2023-01-10  9.139346   23.314632   25.210909     8.708855     9.539159   \n",
       "363 2023-01-11  9.143298   23.683957   25.719903     8.710930     9.543622   \n",
       "364 2023-01-12  9.147251   23.868618   25.933070     8.713004     9.548252   \n",
       "\n",
       "     additive_terms  additive_terms_lower  additive_terms_upper    weekly  \\\n",
       "360       14.712309             14.712309             14.712309 -0.352233   \n",
       "361       14.800643             14.800643             14.800643 -0.330697   \n",
       "362       15.100277             15.100277             15.100277 -0.083750   \n",
       "363       15.575320             15.575320             15.575320  0.340607   \n",
       "364       15.777788             15.777788             15.777788  0.478245   \n",
       "\n",
       "     weekly_lower  weekly_upper     yearly  yearly_lower  yearly_upper  \\\n",
       "360     -0.352233     -0.352233  15.064543     15.064543     15.064543   \n",
       "361     -0.330697     -0.330697  15.131339     15.131339     15.131339   \n",
       "362     -0.083750     -0.083750  15.184027     15.184027     15.184027   \n",
       "363      0.340607      0.340607  15.234713     15.234713     15.234713   \n",
       "364      0.478245      0.478245  15.299543     15.299543     15.299543   \n",
       "\n",
       "     multiplicative_terms  multiplicative_terms_lower  \\\n",
       "360                   0.0                         0.0   \n",
       "361                   0.0                         0.0   \n",
       "362                   0.0                         0.0   \n",
       "363                   0.0                         0.0   \n",
       "364                   0.0                         0.0   \n",
       "\n",
       "     multiplicative_terms_upper       yhat  \n",
       "360                         0.0  23.843751  \n",
       "361                         0.0  23.936036  \n",
       "362                         0.0  24.239623  \n",
       "363                         0.0  24.718618  \n",
       "364                         0.0  24.925038  "
      ]
     },
     "execution_count": 29,
     "metadata": {},
     "output_type": "execute_result"
    }
   ],
   "source": [
    "forecast_diesel.tail()"
   ]
  },
  {
   "cell_type": "code",
   "execution_count": 30,
   "id": "fecd8518-1a5b-4dcb-96bc-37f457aa662a",
   "metadata": {},
   "outputs": [
    {
     "data": {
      "image/png": "[encoded data removed]",
      "text/plain": [
       "<Figure size 720x432 with 1 Axes>"
      ]
     },
     "metadata": {},
     "output_type": "display_data"
    }
   ],
   "source": [
    "fig1 = model.plot(forecast_diesel)"
   ]
  },
  {
   "cell_type": "code",
   "execution_count": 31,
   "id": "65378614-a3fb-4d0d-886b-2d0b38cd8583",
   "metadata": {},
   "outputs": [
    {
     "name": "stdout",
     "output_type": "stream",
     "text": [
      "Saved file: forecast_diesel.csv\n"
     ]
    }
   ],
   "source": [
    "filename = 'forecast_diesel.csv'\n",
    "forecast_diesel.to_csv(filename,index=False)\n",
    "print('Saved file: ' + filename)"
   ]
  }
 ],
 "metadata": {
  "kernelspec": {
   "display_name": "Python 3 (ipykernel)",
   "language": "python",
   "name": "python3"
  },
  "language_info": {
   "codemirror_mode": {
    "name": "ipython",
    "version": 3
   },
   "file_extension": ".py",
   "mimetype": "text/x-python",
   "name": "python",
   "nbconvert_exporter": "python",
   "pygments_lexer": "ipython3",
   "version": "3.9.12"
  }
 },
 "nbformat": 4,
 "nbformat_minor": 5
}
