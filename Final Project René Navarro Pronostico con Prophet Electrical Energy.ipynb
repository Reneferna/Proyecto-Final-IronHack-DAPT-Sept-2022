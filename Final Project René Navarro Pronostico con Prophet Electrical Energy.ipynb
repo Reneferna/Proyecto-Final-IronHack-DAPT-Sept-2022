{
 "cells": [
  {
   "cell_type": "code",
   "execution_count": 1,
   "id": "60f85f26-55c8-4b11-8690-7c30888ed45b",
   "metadata": {
    "tags": []
   },
   "outputs": [],
   "source": [
    "import pandas as pd\n",
    "import numpy as np\n",
    "import xgboost as xgb\n",
    "import matplotlib.pyplot as plt\n",
    "import seaborn as sns\n",
    "from sklearn.metrics import mean_squared_error\n",
    "from sklearn.metrics import mean_absolute_error\n",
    "from prophet import Prophet\n",
    "import warnings\n",
    "warnings.filterwarnings(\"ignore\")"
   ]
  },
  {
   "cell_type": "code",
   "execution_count": 2,
   "id": "f325d160-a5a1-4b1c-8a66-495d6ab69f94",
   "metadata": {},
   "outputs": [],
   "source": [
    "energy = pd.read_csv('Energy Price History - Hoja 1.csv')\n"
   ]
  },
  {
   "cell_type": "markdown",
   "id": "3f1c1661-4810-43af-91ca-213e97056aa5",
   "metadata": {},
   "source": [
    "##### Análisis de la información y limpieza"
   ]
  },
  {
   "cell_type": "code",
   "execution_count": 3,
   "id": "e1e32e6e-92fd-462b-a022-ef51fddcbc9b",
   "metadata": {},
   "outputs": [
    {
     "data": {
      "text/html": [
       "<div>\n",
       "<style scoped>\n",
       "    .dataframe tbody tr th:only-of-type {\n",
       "        vertical-align: middle;\n",
       "    }\n",
       "\n",
       "    .dataframe tbody tr th {\n",
       "        vertical-align: top;\n",
       "    }\n",
       "\n",
       "    .dataframe thead th {\n",
       "        text-align: right;\n",
       "    }\n",
       "</style>\n",
       "<table border=\"1\" class=\"dataframe\">\n",
       "  <thead>\n",
       "    <tr style=\"text-align: right;\">\n",
       "      <th></th>\n",
       "      <th>Fecha</th>\n",
       "      <th>mxn kw/h</th>\n",
       "    </tr>\n",
       "  </thead>\n",
       "  <tbody>\n",
       "    <tr>\n",
       "      <th>0</th>\n",
       "      <td>1/10/2018</td>\n",
       "      <td>1,8833</td>\n",
       "    </tr>\n",
       "    <tr>\n",
       "      <th>1</th>\n",
       "      <td>1/11/2018</td>\n",
       "      <td>1,845</td>\n",
       "    </tr>\n",
       "    <tr>\n",
       "      <th>2</th>\n",
       "      <td>1/12/2018</td>\n",
       "      <td>1,5025</td>\n",
       "    </tr>\n",
       "    <tr>\n",
       "      <th>3</th>\n",
       "      <td>1/1/2019</td>\n",
       "      <td>1,5062</td>\n",
       "    </tr>\n",
       "    <tr>\n",
       "      <th>4</th>\n",
       "      <td>1/2/2019</td>\n",
       "      <td>1,4972</td>\n",
       "    </tr>\n",
       "  </tbody>\n",
       "</table>\n",
       "</div>"
      ],
      "text/plain": [
       "       Fecha mxn kw/h\n",
       "0  1/10/2018   1,8833\n",
       "1  1/11/2018    1,845\n",
       "2  1/12/2018   1,5025\n",
       "3   1/1/2019   1,5062\n",
       "4   1/2/2019   1,4972"
      ]
     },
     "execution_count": 3,
     "metadata": {},
     "output_type": "execute_result"
    }
   ],
   "source": [
    "energy.head()"
   ]
  },
  {
   "cell_type": "code",
   "execution_count": 4,
   "id": "a2630aab-f59d-4909-94b4-e9b7f67c61e3",
   "metadata": {},
   "outputs": [],
   "source": [
    "energy['Fecha']= energy['Fecha'].str.replace('/', '-')"
   ]
  },
  {
   "cell_type": "code",
   "execution_count": 5,
   "id": "a2563e52-c3c6-4f46-a1a2-bea5e22cbfe9",
   "metadata": {},
   "outputs": [],
   "source": [
    "energy['mxn kw/h']= energy['mxn kw/h'].str.replace(',', '.')"
   ]
  },
  {
   "cell_type": "code",
   "execution_count": 6,
   "id": "bcfd4c15-67c1-4da4-a4f7-76a231c60a7b",
   "metadata": {},
   "outputs": [],
   "source": [
    "energy['mxn kw/h'] = energy['mxn kw/h'].astype('float64')"
   ]
  },
  {
   "cell_type": "code",
   "execution_count": 7,
   "id": "526acd22-12b6-42af-8785-5183dc7b9811",
   "metadata": {},
   "outputs": [],
   "source": [
    "energy['Fecha'] = pd.to_datetime(energy['Fecha'])"
   ]
  },
  {
   "cell_type": "code",
   "execution_count": 8,
   "id": "5cd6b5d2-8c5b-4066-ac14-4e2cd7731843",
   "metadata": {},
   "outputs": [
    {
     "name": "stdout",
     "output_type": "stream",
     "text": [
      "<class 'pandas.core.frame.DataFrame'>\n",
      "RangeIndex: 54 entries, 0 to 53\n",
      "Data columns (total 2 columns):\n",
      " #   Column    Non-Null Count  Dtype         \n",
      "---  ------    --------------  -----         \n",
      " 0   Fecha     54 non-null     datetime64[ns]\n",
      " 1   mxn kw/h  54 non-null     float64       \n",
      "dtypes: datetime64[ns](1), float64(1)\n",
      "memory usage: 992.0 bytes\n"
     ]
    }
   ],
   "source": [
    "energy.info()"
   ]
  },
  {
   "cell_type": "code",
   "execution_count": 9,
   "id": "e20867b9-2445-4e62-96c9-2c5ea894f009",
   "metadata": {},
   "outputs": [],
   "source": [
    "energy = energy.set_index('Fecha')"
   ]
  },
  {
   "cell_type": "code",
   "execution_count": 10,
   "id": "96d11bce-10b3-4b8d-a2ad-793a075507e1",
   "metadata": {
    "tags": []
   },
   "outputs": [
    {
     "data": {
      "text/html": [
       "<div>\n",
       "<style scoped>\n",
       "    .dataframe tbody tr th:only-of-type {\n",
       "        vertical-align: middle;\n",
       "    }\n",
       "\n",
       "    .dataframe tbody tr th {\n",
       "        vertical-align: top;\n",
       "    }\n",
       "\n",
       "    .dataframe thead th {\n",
       "        text-align: right;\n",
       "    }\n",
       "</style>\n",
       "<table border=\"1\" class=\"dataframe\">\n",
       "  <thead>\n",
       "    <tr style=\"text-align: right;\">\n",
       "      <th></th>\n",
       "      <th>mxn kw/h</th>\n",
       "    </tr>\n",
       "    <tr>\n",
       "      <th>Fecha</th>\n",
       "      <th></th>\n",
       "    </tr>\n",
       "  </thead>\n",
       "  <tbody>\n",
       "    <tr>\n",
       "      <th>2018-01-10</th>\n",
       "      <td>1.8833</td>\n",
       "    </tr>\n",
       "    <tr>\n",
       "      <th>2018-01-11</th>\n",
       "      <td>1.8450</td>\n",
       "    </tr>\n",
       "    <tr>\n",
       "      <th>2018-01-12</th>\n",
       "      <td>1.5025</td>\n",
       "    </tr>\n",
       "    <tr>\n",
       "      <th>2019-01-01</th>\n",
       "      <td>1.5062</td>\n",
       "    </tr>\n",
       "    <tr>\n",
       "      <th>2019-01-02</th>\n",
       "      <td>1.4972</td>\n",
       "    </tr>\n",
       "  </tbody>\n",
       "</table>\n",
       "</div>"
      ],
      "text/plain": [
       "            mxn kw/h\n",
       "Fecha               \n",
       "2018-01-10    1.8833\n",
       "2018-01-11    1.8450\n",
       "2018-01-12    1.5025\n",
       "2019-01-01    1.5062\n",
       "2019-01-02    1.4972"
      ]
     },
     "execution_count": 10,
     "metadata": {},
     "output_type": "execute_result"
    }
   ],
   "source": [
    "energy.head()"
   ]
  },
  {
   "cell_type": "code",
   "execution_count": 11,
   "id": "fbbcadec-c9c2-4940-b070-ca3bed074948",
   "metadata": {},
   "outputs": [
    {
     "data": {
      "text/html": [
       "<div>\n",
       "<style scoped>\n",
       "    .dataframe tbody tr th:only-of-type {\n",
       "        vertical-align: middle;\n",
       "    }\n",
       "\n",
       "    .dataframe tbody tr th {\n",
       "        vertical-align: top;\n",
       "    }\n",
       "\n",
       "    .dataframe thead th {\n",
       "        text-align: right;\n",
       "    }\n",
       "</style>\n",
       "<table border=\"1\" class=\"dataframe\">\n",
       "  <thead>\n",
       "    <tr style=\"text-align: right;\">\n",
       "      <th></th>\n",
       "      <th>mxn kw/h</th>\n",
       "    </tr>\n",
       "    <tr>\n",
       "      <th>Fecha</th>\n",
       "      <th></th>\n",
       "    </tr>\n",
       "  </thead>\n",
       "  <tbody>\n",
       "    <tr>\n",
       "      <th>2022-11-26</th>\n",
       "      <td>1.6368</td>\n",
       "    </tr>\n",
       "    <tr>\n",
       "      <th>2022-12-27</th>\n",
       "      <td>1.6368</td>\n",
       "    </tr>\n",
       "    <tr>\n",
       "      <th>2023-01-27</th>\n",
       "      <td>1.6403</td>\n",
       "    </tr>\n",
       "    <tr>\n",
       "      <th>2023-02-27</th>\n",
       "      <td>1.6543</td>\n",
       "    </tr>\n",
       "    <tr>\n",
       "      <th>2023-03-30</th>\n",
       "      <td>1.6812</td>\n",
       "    </tr>\n",
       "  </tbody>\n",
       "</table>\n",
       "</div>"
      ],
      "text/plain": [
       "            mxn kw/h\n",
       "Fecha               \n",
       "2022-11-26    1.6368\n",
       "2022-12-27    1.6368\n",
       "2023-01-27    1.6403\n",
       "2023-02-27    1.6543\n",
       "2023-03-30    1.6812"
      ]
     },
     "execution_count": 11,
     "metadata": {},
     "output_type": "execute_result"
    }
   ],
   "source": [
    "energy.tail()"
   ]
  },
  {
   "cell_type": "code",
   "execution_count": 12,
   "id": "70e3d8fa-8bfd-4eb1-b12c-5f3e4c34949b",
   "metadata": {},
   "outputs": [
    {
     "data": {
      "image/png": "[encoded data removed]",
      "text/plain": [
       "<Figure size 1080x360 with 1 Axes>"
      ]
     },
     "metadata": {
      "needs_background": "light"
     },
     "output_type": "display_data"
    }
   ],
   "source": [
    "energy.plot(figsize=(15, 5),title='Energía (mxn kw/h)  Historial de Precio')\n",
    "plt.show()"
   ]
  },
  {
   "cell_type": "code",
   "execution_count": 13,
   "id": "05ff9d8d-9de1-4b2b-9289-8f7e4f0875ea",
   "metadata": {},
   "outputs": [],
   "source": [
    "energy1=energy.copy()"
   ]
  },
  {
   "cell_type": "markdown",
   "id": "609c2c89-eabf-4044-a06e-ed842bfacb8d",
   "metadata": {},
   "source": [
    "##### Entrenamiento de los datos"
   ]
  },
  {
   "cell_type": "code",
   "execution_count": 14,
   "id": "6cfac066-8f9b-433f-b716-abba7f5d9c17",
   "metadata": {},
   "outputs": [
    {
     "data": {
      "image/png": "[encoded data removed]",
      "text/plain": [
       "<Figure size 720x360 with 1 Axes>"
      ]
     },
     "metadata": {
      "needs_background": "light"
     },
     "output_type": "display_data"
    }
   ],
   "source": [
    "split_date = '7-Jul-2022'\n",
    "energy1_train = energy1.loc[energy1.index <= split_date].copy()\n",
    "energy1_test = energy1.loc[energy1.index > split_date].copy()\n",
    "\n",
    "# Plot train and test so you can see where we have split\n",
    "energy1_test \\\n",
    "    .rename(columns={'mxn kw/h': 'TEST SET'}) \\\n",
    "    .join(energy1_train.rename(columns={'mxn kw/h': 'TRAINING SET'}),\n",
    "          how='outer') \\\n",
    "    .plot(figsize=(10, 5), title='mxn kw/h', ms=1)\n",
    "plt.show()"
   ]
  },
  {
   "cell_type": "code",
   "execution_count": 15,
   "id": "91cf8ebc-a826-4dfc-aec3-b57af8676dbd",
   "metadata": {},
   "outputs": [],
   "source": [
    "energy1_train_prophet = energy1_train.reset_index() \\\n",
    "    .rename(columns={'Fecha':'ds',\n",
    "                     'mxn kw/h':'y'})"
   ]
  },
  {
   "cell_type": "code",
   "execution_count": 16,
   "id": "38ea4257-e1eb-49ea-aa79-f01ce223ee32",
   "metadata": {},
   "outputs": [
    {
     "data": {
      "text/html": [
       "<div>\n",
       "<style scoped>\n",
       "    .dataframe tbody tr th:only-of-type {\n",
       "        vertical-align: middle;\n",
       "    }\n",
       "\n",
       "    .dataframe tbody tr th {\n",
       "        vertical-align: top;\n",
       "    }\n",
       "\n",
       "    .dataframe thead th {\n",
       "        text-align: right;\n",
       "    }\n",
       "</style>\n",
       "<table border=\"1\" class=\"dataframe\">\n",
       "  <thead>\n",
       "    <tr style=\"text-align: right;\">\n",
       "      <th></th>\n",
       "      <th>ds</th>\n",
       "      <th>y</th>\n",
       "    </tr>\n",
       "  </thead>\n",
       "  <tbody>\n",
       "    <tr>\n",
       "      <th>0</th>\n",
       "      <td>2018-01-10</td>\n",
       "      <td>1.8833</td>\n",
       "    </tr>\n",
       "    <tr>\n",
       "      <th>1</th>\n",
       "      <td>2018-01-11</td>\n",
       "      <td>1.8450</td>\n",
       "    </tr>\n",
       "    <tr>\n",
       "      <th>2</th>\n",
       "      <td>2018-01-12</td>\n",
       "      <td>1.5025</td>\n",
       "    </tr>\n",
       "    <tr>\n",
       "      <th>3</th>\n",
       "      <td>2019-01-01</td>\n",
       "      <td>1.5062</td>\n",
       "    </tr>\n",
       "    <tr>\n",
       "      <th>4</th>\n",
       "      <td>2019-01-02</td>\n",
       "      <td>1.4972</td>\n",
       "    </tr>\n",
       "    <tr>\n",
       "      <th>5</th>\n",
       "      <td>2019-03-19</td>\n",
       "      <td>1.5230</td>\n",
       "    </tr>\n",
       "    <tr>\n",
       "      <th>6</th>\n",
       "      <td>2019-01-04</td>\n",
       "      <td>1.5182</td>\n",
       "    </tr>\n",
       "    <tr>\n",
       "      <th>7</th>\n",
       "      <td>2019-01-05</td>\n",
       "      <td>1.5444</td>\n",
       "    </tr>\n",
       "    <tr>\n",
       "      <th>8</th>\n",
       "      <td>2019-01-06</td>\n",
       "      <td>1.5498</td>\n",
       "    </tr>\n",
       "    <tr>\n",
       "      <th>9</th>\n",
       "      <td>2019-02-07</td>\n",
       "      <td>1.5525</td>\n",
       "    </tr>\n",
       "    <tr>\n",
       "      <th>10</th>\n",
       "      <td>2019-03-08</td>\n",
       "      <td>1.5417</td>\n",
       "    </tr>\n",
       "    <tr>\n",
       "      <th>11</th>\n",
       "      <td>2019-04-09</td>\n",
       "      <td>1.5124</td>\n",
       "    </tr>\n",
       "    <tr>\n",
       "      <th>12</th>\n",
       "      <td>2019-05-10</td>\n",
       "      <td>1.4838</td>\n",
       "    </tr>\n",
       "    <tr>\n",
       "      <th>13</th>\n",
       "      <td>2019-06-11</td>\n",
       "      <td>1.4825</td>\n",
       "    </tr>\n",
       "    <tr>\n",
       "      <th>14</th>\n",
       "      <td>2019-07-12</td>\n",
       "      <td>1.4820</td>\n",
       "    </tr>\n",
       "    <tr>\n",
       "      <th>15</th>\n",
       "      <td>2020-07-01</td>\n",
       "      <td>1.5121</td>\n",
       "    </tr>\n",
       "    <tr>\n",
       "      <th>16</th>\n",
       "      <td>2020-07-02</td>\n",
       "      <td>1.5021</td>\n",
       "    </tr>\n",
       "    <tr>\n",
       "      <th>17</th>\n",
       "      <td>2020-09-03</td>\n",
       "      <td>1.5107</td>\n",
       "    </tr>\n",
       "    <tr>\n",
       "      <th>18</th>\n",
       "      <td>2020-09-04</td>\n",
       "      <td>1.5192</td>\n",
       "    </tr>\n",
       "    <tr>\n",
       "      <th>19</th>\n",
       "      <td>2020-10-05</td>\n",
       "      <td>1.5047</td>\n",
       "    </tr>\n",
       "    <tr>\n",
       "      <th>20</th>\n",
       "      <td>2020-10-06</td>\n",
       "      <td>1.4920</td>\n",
       "    </tr>\n",
       "    <tr>\n",
       "      <th>21</th>\n",
       "      <td>2020-11-07</td>\n",
       "      <td>1.4607</td>\n",
       "    </tr>\n",
       "    <tr>\n",
       "      <th>22</th>\n",
       "      <td>2020-11-08</td>\n",
       "      <td>1.4414</td>\n",
       "    </tr>\n",
       "    <tr>\n",
       "      <th>23</th>\n",
       "      <td>2020-11-09</td>\n",
       "      <td>1.4055</td>\n",
       "    </tr>\n",
       "    <tr>\n",
       "      <th>24</th>\n",
       "      <td>2020-12-10</td>\n",
       "      <td>1.4057</td>\n",
       "    </tr>\n",
       "    <tr>\n",
       "      <th>25</th>\n",
       "      <td>2020-12-11</td>\n",
       "      <td>1.4061</td>\n",
       "    </tr>\n",
       "    <tr>\n",
       "      <th>26</th>\n",
       "      <td>2020-12-13</td>\n",
       "      <td>1.4045</td>\n",
       "    </tr>\n",
       "    <tr>\n",
       "      <th>27</th>\n",
       "      <td>2021-01-13</td>\n",
       "      <td>1.4251</td>\n",
       "    </tr>\n",
       "    <tr>\n",
       "      <th>28</th>\n",
       "      <td>2021-02-13</td>\n",
       "      <td>1.4334</td>\n",
       "    </tr>\n",
       "    <tr>\n",
       "      <th>29</th>\n",
       "      <td>2021-03-16</td>\n",
       "      <td>1.4363</td>\n",
       "    </tr>\n",
       "    <tr>\n",
       "      <th>30</th>\n",
       "      <td>2021-04-16</td>\n",
       "      <td>1.4831</td>\n",
       "    </tr>\n",
       "    <tr>\n",
       "      <th>31</th>\n",
       "      <td>2021-05-17</td>\n",
       "      <td>1.4899</td>\n",
       "    </tr>\n",
       "    <tr>\n",
       "      <th>32</th>\n",
       "      <td>2021-06-17</td>\n",
       "      <td>1.5398</td>\n",
       "    </tr>\n",
       "    <tr>\n",
       "      <th>33</th>\n",
       "      <td>2021-07-18</td>\n",
       "      <td>1.5238</td>\n",
       "    </tr>\n",
       "    <tr>\n",
       "      <th>34</th>\n",
       "      <td>2021-08-18</td>\n",
       "      <td>1.5213</td>\n",
       "    </tr>\n",
       "    <tr>\n",
       "      <th>35</th>\n",
       "      <td>2021-09-18</td>\n",
       "      <td>1.4906</td>\n",
       "    </tr>\n",
       "    <tr>\n",
       "      <th>36</th>\n",
       "      <td>2021-10-19</td>\n",
       "      <td>1.4872</td>\n",
       "    </tr>\n",
       "    <tr>\n",
       "      <th>37</th>\n",
       "      <td>2021-11-19</td>\n",
       "      <td>1.4994</td>\n",
       "    </tr>\n",
       "    <tr>\n",
       "      <th>38</th>\n",
       "      <td>2021-12-20</td>\n",
       "      <td>1.5160</td>\n",
       "    </tr>\n",
       "    <tr>\n",
       "      <th>39</th>\n",
       "      <td>2022-01-20</td>\n",
       "      <td>1.5321</td>\n",
       "    </tr>\n",
       "    <tr>\n",
       "      <th>40</th>\n",
       "      <td>2022-02-20</td>\n",
       "      <td>1.5436</td>\n",
       "    </tr>\n",
       "    <tr>\n",
       "      <th>41</th>\n",
       "      <td>2022-03-23</td>\n",
       "      <td>1.5436</td>\n",
       "    </tr>\n",
       "    <tr>\n",
       "      <th>42</th>\n",
       "      <td>2022-04-23</td>\n",
       "      <td>1.5843</td>\n",
       "    </tr>\n",
       "    <tr>\n",
       "      <th>43</th>\n",
       "      <td>2022-05-24</td>\n",
       "      <td>1.6158</td>\n",
       "    </tr>\n",
       "    <tr>\n",
       "      <th>44</th>\n",
       "      <td>2022-06-24</td>\n",
       "      <td>1.5712</td>\n",
       "    </tr>\n",
       "  </tbody>\n",
       "</table>\n",
       "</div>"
      ],
      "text/plain": [
       "           ds       y\n",
       "0  2018-01-10  1.8833\n",
       "1  2018-01-11  1.8450\n",
       "2  2018-01-12  1.5025\n",
       "3  2019-01-01  1.5062\n",
       "4  2019-01-02  1.4972\n",
       "5  2019-03-19  1.5230\n",
       "6  2019-01-04  1.5182\n",
       "7  2019-01-05  1.5444\n",
       "8  2019-01-06  1.5498\n",
       "9  2019-02-07  1.5525\n",
       "10 2019-03-08  1.5417\n",
       "11 2019-04-09  1.5124\n",
       "12 2019-05-10  1.4838\n",
       "13 2019-06-11  1.4825\n",
       "14 2019-07-12  1.4820\n",
       "15 2020-07-01  1.5121\n",
       "16 2020-07-02  1.5021\n",
       "17 2020-09-03  1.5107\n",
       "18 2020-09-04  1.5192\n",
       "19 2020-10-05  1.5047\n",
       "20 2020-10-06  1.4920\n",
       "21 2020-11-07  1.4607\n",
       "22 2020-11-08  1.4414\n",
       "23 2020-11-09  1.4055\n",
       "24 2020-12-10  1.4057\n",
       "25 2020-12-11  1.4061\n",
       "26 2020-12-13  1.4045\n",
       "27 2021-01-13  1.4251\n",
       "28 2021-02-13  1.4334\n",
       "29 2021-03-16  1.4363\n",
       "30 2021-04-16  1.4831\n",
       "31 2021-05-17  1.4899\n",
       "32 2021-06-17  1.5398\n",
       "33 2021-07-18  1.5238\n",
       "34 2021-08-18  1.5213\n",
       "35 2021-09-18  1.4906\n",
       "36 2021-10-19  1.4872\n",
       "37 2021-11-19  1.4994\n",
       "38 2021-12-20  1.5160\n",
       "39 2022-01-20  1.5321\n",
       "40 2022-02-20  1.5436\n",
       "41 2022-03-23  1.5436\n",
       "42 2022-04-23  1.5843\n",
       "43 2022-05-24  1.6158\n",
       "44 2022-06-24  1.5712"
      ]
     },
     "execution_count": 16,
     "metadata": {},
     "output_type": "execute_result"
    }
   ],
   "source": [
    "energy1_train_prophet"
   ]
  },
  {
   "cell_type": "code",
   "execution_count": 17,
   "id": "813f939e-4b09-43ee-8360-7bfe786d515a",
   "metadata": {},
   "outputs": [
    {
     "name": "stderr",
     "output_type": "stream",
     "text": [
      "16:05:02 - cmdstanpy - INFO - Chain [1] start processing\n",
      "16:05:03 - cmdstanpy - INFO - Chain [1] done processing\n"
     ]
    },
    {
     "data": {
      "text/plain": [
       "<prophet.forecaster.Prophet at 0x19fed231490>"
      ]
     },
     "execution_count": 17,
     "metadata": {},
     "output_type": "execute_result"
    }
   ],
   "source": [
    "model = Prophet()\n",
    "model.fit(energy1_train_prophet)"
   ]
  },
  {
   "cell_type": "code",
   "execution_count": 18,
   "id": "9df0e591-16fc-4ac6-86de-e592ea86ba6f",
   "metadata": {
    "tags": []
   },
   "outputs": [],
   "source": [
    "energy1_test_prophet = energy1_test.reset_index() \\\n",
    "    .rename(columns={'Fecha':'ds',\n",
    "                     'mxn kw/h':'y'})\n",
    "\n",
    "energy1_test_fcst = model.predict(energy1_test_prophet)"
   ]
  },
  {
   "cell_type": "code",
   "execution_count": 19,
   "id": "71da50e3-aea1-4081-b008-6b947254ff39",
   "metadata": {},
   "outputs": [
    {
     "data": {
      "text/html": [
       "<div>\n",
       "<style scoped>\n",
       "    .dataframe tbody tr th:only-of-type {\n",
       "        vertical-align: middle;\n",
       "    }\n",
       "\n",
       "    .dataframe tbody tr th {\n",
       "        vertical-align: top;\n",
       "    }\n",
       "\n",
       "    .dataframe thead th {\n",
       "        text-align: right;\n",
       "    }\n",
       "</style>\n",
       "<table border=\"1\" class=\"dataframe\">\n",
       "  <thead>\n",
       "    <tr style=\"text-align: right;\">\n",
       "      <th></th>\n",
       "      <th>ds</th>\n",
       "      <th>trend</th>\n",
       "      <th>yhat_lower</th>\n",
       "      <th>yhat_upper</th>\n",
       "      <th>trend_lower</th>\n",
       "      <th>trend_upper</th>\n",
       "      <th>additive_terms</th>\n",
       "      <th>additive_terms_lower</th>\n",
       "      <th>additive_terms_upper</th>\n",
       "      <th>weekly</th>\n",
       "      <th>weekly_lower</th>\n",
       "      <th>weekly_upper</th>\n",
       "      <th>yearly</th>\n",
       "      <th>yearly_lower</th>\n",
       "      <th>yearly_upper</th>\n",
       "      <th>multiplicative_terms</th>\n",
       "      <th>multiplicative_terms_lower</th>\n",
       "      <th>multiplicative_terms_upper</th>\n",
       "      <th>yhat</th>\n",
       "    </tr>\n",
       "  </thead>\n",
       "  <tbody>\n",
       "    <tr>\n",
       "      <th>0</th>\n",
       "      <td>2022-07-25</td>\n",
       "      <td>1.568763</td>\n",
       "      <td>1.447559</td>\n",
       "      <td>1.546656</td>\n",
       "      <td>1.568409</td>\n",
       "      <td>1.569083</td>\n",
       "      <td>-0.072591</td>\n",
       "      <td>-0.072591</td>\n",
       "      <td>-0.072591</td>\n",
       "      <td>-0.018393</td>\n",
       "      <td>-0.018393</td>\n",
       "      <td>-0.018393</td>\n",
       "      <td>-0.054198</td>\n",
       "      <td>-0.054198</td>\n",
       "      <td>-0.054198</td>\n",
       "      <td>0.0</td>\n",
       "      <td>0.0</td>\n",
       "      <td>0.0</td>\n",
       "      <td>1.496172</td>\n",
       "    </tr>\n",
       "    <tr>\n",
       "      <th>1</th>\n",
       "      <td>2022-08-25</td>\n",
       "      <td>1.574658</td>\n",
       "      <td>1.618312</td>\n",
       "      <td>1.725574</td>\n",
       "      <td>1.573381</td>\n",
       "      <td>1.575778</td>\n",
       "      <td>0.097778</td>\n",
       "      <td>0.097778</td>\n",
       "      <td>0.097778</td>\n",
       "      <td>0.035539</td>\n",
       "      <td>0.035539</td>\n",
       "      <td>0.035539</td>\n",
       "      <td>0.062239</td>\n",
       "      <td>0.062239</td>\n",
       "      <td>0.062239</td>\n",
       "      <td>0.0</td>\n",
       "      <td>0.0</td>\n",
       "      <td>0.0</td>\n",
       "      <td>1.672436</td>\n",
       "    </tr>\n",
       "    <tr>\n",
       "      <th>2</th>\n",
       "      <td>2022-09-25</td>\n",
       "      <td>1.580553</td>\n",
       "      <td>1.534887</td>\n",
       "      <td>1.641571</td>\n",
       "      <td>1.578030</td>\n",
       "      <td>1.582947</td>\n",
       "      <td>0.005204</td>\n",
       "      <td>0.005204</td>\n",
       "      <td>0.005204</td>\n",
       "      <td>0.008932</td>\n",
       "      <td>0.008932</td>\n",
       "      <td>0.008932</td>\n",
       "      <td>-0.003729</td>\n",
       "      <td>-0.003729</td>\n",
       "      <td>-0.003729</td>\n",
       "      <td>0.0</td>\n",
       "      <td>0.0</td>\n",
       "      <td>0.0</td>\n",
       "      <td>1.585757</td>\n",
       "    </tr>\n",
       "    <tr>\n",
       "      <th>3</th>\n",
       "      <td>2022-10-26</td>\n",
       "      <td>1.586448</td>\n",
       "      <td>1.531150</td>\n",
       "      <td>1.634768</td>\n",
       "      <td>1.582362</td>\n",
       "      <td>1.590318</td>\n",
       "      <td>-0.005316</td>\n",
       "      <td>-0.005316</td>\n",
       "      <td>-0.005316</td>\n",
       "      <td>0.041174</td>\n",
       "      <td>0.041174</td>\n",
       "      <td>0.041174</td>\n",
       "      <td>-0.046490</td>\n",
       "      <td>-0.046490</td>\n",
       "      <td>-0.046490</td>\n",
       "      <td>0.0</td>\n",
       "      <td>0.0</td>\n",
       "      <td>0.0</td>\n",
       "      <td>1.581132</td>\n",
       "    </tr>\n",
       "    <tr>\n",
       "      <th>4</th>\n",
       "      <td>2022-11-26</td>\n",
       "      <td>1.592343</td>\n",
       "      <td>1.555201</td>\n",
       "      <td>1.665166</td>\n",
       "      <td>1.586392</td>\n",
       "      <td>1.597971</td>\n",
       "      <td>0.016681</td>\n",
       "      <td>0.016681</td>\n",
       "      <td>0.016681</td>\n",
       "      <td>0.013218</td>\n",
       "      <td>0.013218</td>\n",
       "      <td>0.013218</td>\n",
       "      <td>0.003464</td>\n",
       "      <td>0.003464</td>\n",
       "      <td>0.003464</td>\n",
       "      <td>0.0</td>\n",
       "      <td>0.0</td>\n",
       "      <td>0.0</td>\n",
       "      <td>1.609024</td>\n",
       "    </tr>\n",
       "  </tbody>\n",
       "</table>\n",
       "</div>"
      ],
      "text/plain": [
       "          ds     trend  yhat_lower  yhat_upper  trend_lower  trend_upper  \\\n",
       "0 2022-07-25  1.568763    1.447559    1.546656     1.568409     1.569083   \n",
       "1 2022-08-25  1.574658    1.618312    1.725574     1.573381     1.575778   \n",
       "2 2022-09-25  1.580553    1.534887    1.641571     1.578030     1.582947   \n",
       "3 2022-10-26  1.586448    1.531150    1.634768     1.582362     1.590318   \n",
       "4 2022-11-26  1.592343    1.555201    1.665166     1.586392     1.597971   \n",
       "\n",
       "   additive_terms  additive_terms_lower  additive_terms_upper    weekly  \\\n",
       "0       -0.072591             -0.072591             -0.072591 -0.018393   \n",
       "1        0.097778              0.097778              0.097778  0.035539   \n",
       "2        0.005204              0.005204              0.005204  0.008932   \n",
       "3       -0.005316             -0.005316             -0.005316  0.041174   \n",
       "4        0.016681              0.016681              0.016681  0.013218   \n",
       "\n",
       "   weekly_lower  weekly_upper    yearly  yearly_lower  yearly_upper  \\\n",
       "0     -0.018393     -0.018393 -0.054198     -0.054198     -0.054198   \n",
       "1      0.035539      0.035539  0.062239      0.062239      0.062239   \n",
       "2      0.008932      0.008932 -0.003729     -0.003729     -0.003729   \n",
       "3      0.041174      0.041174 -0.046490     -0.046490     -0.046490   \n",
       "4      0.013218      0.013218  0.003464      0.003464      0.003464   \n",
       "\n",
       "   multiplicative_terms  multiplicative_terms_lower  \\\n",
       "0                   0.0                         0.0   \n",
       "1                   0.0                         0.0   \n",
       "2                   0.0                         0.0   \n",
       "3                   0.0                         0.0   \n",
       "4                   0.0                         0.0   \n",
       "\n",
       "   multiplicative_terms_upper      yhat  \n",
       "0                         0.0  1.496172  \n",
       "1                         0.0  1.672436  \n",
       "2                         0.0  1.585757  \n",
       "3                         0.0  1.581132  \n",
       "4                         0.0  1.609024  "
      ]
     },
     "execution_count": 19,
     "metadata": {},
     "output_type": "execute_result"
    }
   ],
   "source": [
    "energy1_test_fcst.head()"
   ]
  },
  {
   "cell_type": "code",
   "execution_count": 20,
   "id": "4bab0af2-753d-4234-9090-3515b12d7429",
   "metadata": {},
   "outputs": [
    {
     "data": {
      "image/png": "[encoded data removed]",
      "text/plain": [
       "<Figure size 720x360 with 1 Axes>"
      ]
     },
     "metadata": {
      "needs_background": "light"
     },
     "output_type": "display_data"
    }
   ],
   "source": [
    "fig, ax = plt.subplots(figsize=(10, 5))\n",
    "fig = model.plot(energy1_test_fcst, ax=ax)\n",
    "ax.set_title('Prophet Forecast')\n",
    "plt.show()"
   ]
  },
  {
   "cell_type": "code",
   "execution_count": 21,
   "id": "f946e5ef-7d1a-41f8-bd97-82d026a1c061",
   "metadata": {},
   "outputs": [
    {
     "data": {
      "image/png": "[encoded data removed]",
      "text/plain": [
       "<Figure size 648x648 with 3 Axes>"
      ]
     },
     "metadata": {},
     "output_type": "display_data"
    }
   ],
   "source": [
    "fig = model.plot_components(energy1_test_fcst)\n",
    "plt.show()"
   ]
  },
  {
   "cell_type": "code",
   "execution_count": 22,
   "id": "dc2d0bea-59ff-4360-aeee-34b0a30dde86",
   "metadata": {},
   "outputs": [
    {
     "data": {
      "image/png": "[encoded data removed]",
      "text/plain": [
       "<Figure size 1080x360 with 1 Axes>"
      ]
     },
     "metadata": {
      "needs_background": "light"
     },
     "output_type": "display_data"
    }
   ],
   "source": [
    "f, ax = plt.subplots(figsize=(15, 5))\n",
    "ax.scatter(energy1_test.index, energy1_test['mxn kw/h'], color='r')\n",
    "fig = model.plot(energy1_test_fcst, ax=ax)"
   ]
  },
  {
   "cell_type": "code",
   "execution_count": 23,
   "id": "8e84c09d-15b7-41b0-86b2-cf2dd64f2df0",
   "metadata": {},
   "outputs": [
    {
     "data": {
      "image/png": "[encoded data removed]",
      "text/plain": [
       "<Figure size 720x360 with 1 Axes>"
      ]
     },
     "metadata": {
      "needs_background": "light"
     },
     "output_type": "display_data"
    }
   ],
   "source": [
    "fig, ax = plt.subplots(figsize=(10, 5))\n",
    "ax.scatter(energy1_test.index, energy1_test['mxn kw/h'], color='r')\n",
    "fig = model.plot(energy1_test_fcst, ax=ax)\n",
    "ax.set_xbound(lower='02-07-2022',\n",
    "              upper='25-11-2022')\n",
    "ax.set_ylim(0, 2)\n",
    "plot = plt.suptitle('July 2022 Forecast vs Actuals')"
   ]
  },
  {
   "cell_type": "code",
   "execution_count": 24,
   "id": "eef4e0ac-e9f6-48b1-8545-1f543a5c8a0e",
   "metadata": {},
   "outputs": [
    {
     "data": {
      "text/plain": [
       "0.07314909924703808"
      ]
     },
     "execution_count": 24,
     "metadata": {},
     "output_type": "execute_result"
    }
   ],
   "source": [
    "np.sqrt(mean_squared_error(y_true=energy1_test['mxn kw/h'],\n",
    "                   y_pred=energy1_test_fcst['yhat']))"
   ]
  },
  {
   "cell_type": "code",
   "execution_count": 25,
   "id": "808f7af7-c59f-4de6-bfff-ecaa25edff86",
   "metadata": {},
   "outputs": [
    {
     "data": {
      "text/plain": [
       "0.06518408866179895"
      ]
     },
     "execution_count": 25,
     "metadata": {},
     "output_type": "execute_result"
    }
   ],
   "source": [
    "mean_absolute_error(y_true=energy1_test['mxn kw/h'],\n",
    "                   y_pred=energy1_test_fcst['yhat'])"
   ]
  },
  {
   "cell_type": "code",
   "execution_count": 26,
   "id": "f6169da9-4e2f-48ef-87bb-d4907ff14fcc",
   "metadata": {},
   "outputs": [],
   "source": [
    "# Calculates MAPE given y_true and y_pred\n",
    "def mean_absolute_percentage_error(y_true, y_pred): \n",
    "    y_true, y_pred = np.array(y_true), np.array(y_pred)\n",
    "    return np.mean(np.abs((y_true - y_pred) / y_true)) * 100"
   ]
  },
  {
   "cell_type": "code",
   "execution_count": 27,
   "id": "68b12a3f-ade2-4750-a9de-5985e7ad61e7",
   "metadata": {},
   "outputs": [
    {
     "data": {
      "text/plain": [
       "3.986680363536041"
      ]
     },
     "execution_count": 27,
     "metadata": {},
     "output_type": "execute_result"
    }
   ],
   "source": [
    "mean_absolute_percentage_error(y_true=energy1_test['mxn kw/h'],\n",
    "                   y_pred=energy1_test_fcst['yhat'])"
   ]
  },
  {
   "cell_type": "code",
   "execution_count": 28,
   "id": "27fe941d-e847-458c-bec2-044ae59bae82",
   "metadata": {},
   "outputs": [],
   "source": [
    "future = model.make_future_dataframe(periods=365, include_history=False)"
   ]
  },
  {
   "cell_type": "code",
   "execution_count": 29,
   "id": "1e39f2b8-9a54-4f52-98f6-0d0a63ff82be",
   "metadata": {},
   "outputs": [],
   "source": [
    "forecast_energy = model.predict(future)"
   ]
  },
  {
   "cell_type": "code",
   "execution_count": 30,
   "id": "464c9a5d-c96a-4de0-ba06-0abbdf284585",
   "metadata": {},
   "outputs": [
    {
     "data": {
      "text/html": [
       "<div>\n",
       "<style scoped>\n",
       "    .dataframe tbody tr th:only-of-type {\n",
       "        vertical-align: middle;\n",
       "    }\n",
       "\n",
       "    .dataframe tbody tr th {\n",
       "        vertical-align: top;\n",
       "    }\n",
       "\n",
       "    .dataframe thead th {\n",
       "        text-align: right;\n",
       "    }\n",
       "</style>\n",
       "<table border=\"1\" class=\"dataframe\">\n",
       "  <thead>\n",
       "    <tr style=\"text-align: right;\">\n",
       "      <th></th>\n",
       "      <th>ds</th>\n",
       "      <th>trend</th>\n",
       "      <th>yhat_lower</th>\n",
       "      <th>yhat_upper</th>\n",
       "      <th>trend_lower</th>\n",
       "      <th>trend_upper</th>\n",
       "      <th>additive_terms</th>\n",
       "      <th>additive_terms_lower</th>\n",
       "      <th>additive_terms_upper</th>\n",
       "      <th>weekly</th>\n",
       "      <th>weekly_lower</th>\n",
       "      <th>weekly_upper</th>\n",
       "      <th>yearly</th>\n",
       "      <th>yearly_lower</th>\n",
       "      <th>yearly_upper</th>\n",
       "      <th>multiplicative_terms</th>\n",
       "      <th>multiplicative_terms_lower</th>\n",
       "      <th>multiplicative_terms_upper</th>\n",
       "      <th>yhat</th>\n",
       "    </tr>\n",
       "  </thead>\n",
       "  <tbody>\n",
       "    <tr>\n",
       "      <th>360</th>\n",
       "      <td>2023-06-20</td>\n",
       "      <td>1.631516</td>\n",
       "      <td>1.569525</td>\n",
       "      <td>1.686508</td>\n",
       "      <td>1.609650</td>\n",
       "      <td>1.654396</td>\n",
       "      <td>-0.007674</td>\n",
       "      <td>-0.007674</td>\n",
       "      <td>-0.007674</td>\n",
       "      <td>-0.030539</td>\n",
       "      <td>-0.030539</td>\n",
       "      <td>-0.030539</td>\n",
       "      <td>0.022866</td>\n",
       "      <td>0.022866</td>\n",
       "      <td>0.022866</td>\n",
       "      <td>0.0</td>\n",
       "      <td>0.0</td>\n",
       "      <td>0.0</td>\n",
       "      <td>1.623843</td>\n",
       "    </tr>\n",
       "    <tr>\n",
       "      <th>361</th>\n",
       "      <td>2023-06-21</td>\n",
       "      <td>1.631707</td>\n",
       "      <td>1.641797</td>\n",
       "      <td>1.757091</td>\n",
       "      <td>1.609724</td>\n",
       "      <td>1.654735</td>\n",
       "      <td>0.065452</td>\n",
       "      <td>0.065452</td>\n",
       "      <td>0.065452</td>\n",
       "      <td>0.041174</td>\n",
       "      <td>0.041174</td>\n",
       "      <td>0.041174</td>\n",
       "      <td>0.024279</td>\n",
       "      <td>0.024279</td>\n",
       "      <td>0.024279</td>\n",
       "      <td>0.0</td>\n",
       "      <td>0.0</td>\n",
       "      <td>0.0</td>\n",
       "      <td>1.697159</td>\n",
       "    </tr>\n",
       "    <tr>\n",
       "      <th>362</th>\n",
       "      <td>2023-06-22</td>\n",
       "      <td>1.631897</td>\n",
       "      <td>1.639077</td>\n",
       "      <td>1.751100</td>\n",
       "      <td>1.609750</td>\n",
       "      <td>1.655016</td>\n",
       "      <td>0.061490</td>\n",
       "      <td>0.061490</td>\n",
       "      <td>0.061490</td>\n",
       "      <td>0.035539</td>\n",
       "      <td>0.035539</td>\n",
       "      <td>0.035539</td>\n",
       "      <td>0.025952</td>\n",
       "      <td>0.025952</td>\n",
       "      <td>0.025952</td>\n",
       "      <td>0.0</td>\n",
       "      <td>0.0</td>\n",
       "      <td>0.0</td>\n",
       "      <td>1.693387</td>\n",
       "    </tr>\n",
       "    <tr>\n",
       "      <th>363</th>\n",
       "      <td>2023-06-23</td>\n",
       "      <td>1.632087</td>\n",
       "      <td>1.552781</td>\n",
       "      <td>1.667922</td>\n",
       "      <td>1.609775</td>\n",
       "      <td>1.655296</td>\n",
       "      <td>-0.022080</td>\n",
       "      <td>-0.022080</td>\n",
       "      <td>-0.022080</td>\n",
       "      <td>-0.049930</td>\n",
       "      <td>-0.049930</td>\n",
       "      <td>-0.049930</td>\n",
       "      <td>0.027850</td>\n",
       "      <td>0.027850</td>\n",
       "      <td>0.027850</td>\n",
       "      <td>0.0</td>\n",
       "      <td>0.0</td>\n",
       "      <td>0.0</td>\n",
       "      <td>1.610007</td>\n",
       "    </tr>\n",
       "    <tr>\n",
       "      <th>364</th>\n",
       "      <td>2023-06-24</td>\n",
       "      <td>1.632277</td>\n",
       "      <td>1.614030</td>\n",
       "      <td>1.734887</td>\n",
       "      <td>1.609804</td>\n",
       "      <td>1.655577</td>\n",
       "      <td>0.043151</td>\n",
       "      <td>0.043151</td>\n",
       "      <td>0.043151</td>\n",
       "      <td>0.013218</td>\n",
       "      <td>0.013218</td>\n",
       "      <td>0.013218</td>\n",
       "      <td>0.029934</td>\n",
       "      <td>0.029934</td>\n",
       "      <td>0.029934</td>\n",
       "      <td>0.0</td>\n",
       "      <td>0.0</td>\n",
       "      <td>0.0</td>\n",
       "      <td>1.675428</td>\n",
       "    </tr>\n",
       "  </tbody>\n",
       "</table>\n",
       "</div>"
      ],
      "text/plain": [
       "            ds     trend  yhat_lower  yhat_upper  trend_lower  trend_upper  \\\n",
       "360 2023-06-20  1.631516    1.569525    1.686508     1.609650     1.654396   \n",
       "361 2023-06-21  1.631707    1.641797    1.757091     1.609724     1.654735   \n",
       "362 2023-06-22  1.631897    1.639077    1.751100     1.609750     1.655016   \n",
       "363 2023-06-23  1.632087    1.552781    1.667922     1.609775     1.655296   \n",
       "364 2023-06-24  1.632277    1.614030    1.734887     1.609804     1.655577   \n",
       "\n",
       "     additive_terms  additive_terms_lower  additive_terms_upper    weekly  \\\n",
       "360       -0.007674             -0.007674             -0.007674 -0.030539   \n",
       "361        0.065452              0.065452              0.065452  0.041174   \n",
       "362        0.061490              0.061490              0.061490  0.035539   \n",
       "363       -0.022080             -0.022080             -0.022080 -0.049930   \n",
       "364        0.043151              0.043151              0.043151  0.013218   \n",
       "\n",
       "     weekly_lower  weekly_upper    yearly  yearly_lower  yearly_upper  \\\n",
       "360     -0.030539     -0.030539  0.022866      0.022866      0.022866   \n",
       "361      0.041174      0.041174  0.024279      0.024279      0.024279   \n",
       "362      0.035539      0.035539  0.025952      0.025952      0.025952   \n",
       "363     -0.049930     -0.049930  0.027850      0.027850      0.027850   \n",
       "364      0.013218      0.013218  0.029934      0.029934      0.029934   \n",
       "\n",
       "     multiplicative_terms  multiplicative_terms_lower  \\\n",
       "360                   0.0                         0.0   \n",
       "361                   0.0                         0.0   \n",
       "362                   0.0                         0.0   \n",
       "363                   0.0                         0.0   \n",
       "364                   0.0                         0.0   \n",
       "\n",
       "     multiplicative_terms_upper      yhat  \n",
       "360                         0.0  1.623843  \n",
       "361                         0.0  1.697159  \n",
       "362                         0.0  1.693387  \n",
       "363                         0.0  1.610007  \n",
       "364                         0.0  1.675428  "
      ]
     },
     "execution_count": 30,
     "metadata": {},
     "output_type": "execute_result"
    }
   ],
   "source": [
    "forecast_energy.tail()"
   ]
  },
  {
   "cell_type": "code",
   "execution_count": 31,
   "id": "fecd8518-1a5b-4dcb-96bc-37f457aa662a",
   "metadata": {},
   "outputs": [
    {
     "data": {
      "image/png": "[encoded data removed]",
      "text/plain": [
       "<Figure size 720x432 with 1 Axes>"
      ]
     },
     "metadata": {},
     "output_type": "display_data"
    }
   ],
   "source": [
    "fig1 = model.plot(forecast_energy)"
   ]
  },
  {
   "cell_type": "code",
   "execution_count": 32,
   "id": "16c16246-ee86-4a9d-89b1-6337e3af3f8a",
   "metadata": {},
   "outputs": [
    {
     "name": "stdout",
     "output_type": "stream",
     "text": [
      "Saved file: forecast_energy.csv\n"
     ]
    }
   ],
   "source": [
    "filename = 'forecast_energy.csv'\n",
    "forecast_energy.to_csv(filename,index=False)\n",
    "print('Saved file: ' + filename)"
   ]
  }
 ],
 "metadata": {
  "kernelspec": {
   "display_name": "Python 3 (ipykernel)",
   "language": "python",
   "name": "python3"
  },
  "language_info": {
   "codemirror_mode": {
    "name": "ipython",
    "version": 3
   },
   "file_extension": ".py",
   "mimetype": "text/x-python",
   "name": "python",
   "nbconvert_exporter": "python",
   "pygments_lexer": "ipython3",
   "version": "3.9.12"
  }
 },
 "nbformat": 4,
 "nbformat_minor": 5
}
